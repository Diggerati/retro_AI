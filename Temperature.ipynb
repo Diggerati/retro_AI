{
  "nbformat": 4,
  "nbformat_minor": 0,
  "metadata": {
    "colab": {
      "name": "Temperature.ipynb",
      "provenance": [],
      "authorship_tag": "ABX9TyM5ya+vx7BbPdF3pkd823XH",
      "include_colab_link": true
    },
    "kernelspec": {
      "name": "python3",
      "display_name": "Python 3"
    }
  },
  "cells": [
    {
      "cell_type": "markdown",
      "metadata": {
        "id": "view-in-github",
        "colab_type": "text"
      },
      "source": [
        "<a href=\"https://colab.research.google.com/github/Diggerati/retro_AI/blob/master/Temperature.ipynb\" target=\"_parent\"><img src=\"https://colab.research.google.com/assets/colab-badge.svg\" alt=\"Open In Colab\"/></a>"
      ]
    },
    {
      "cell_type": "code",
      "metadata": {
        "id": "PnChVcILOW0w",
        "colab_type": "code",
        "colab": {}
      },
      "source": [
        "import tensorflow as tf\n",
        "\n",
        "import numpy as np\n"
      ],
      "execution_count": 0,
      "outputs": []
    },
    {
      "cell_type": "code",
      "metadata": {
        "id": "e6wvZy61QS_I",
        "colab_type": "code",
        "colab": {
          "base_uri": "https://localhost:8080/",
          "height": 136
        },
        "outputId": "c4e46f33-1cec-4ee7-da2d-da0deeb4d07e"
      },
      "source": [
        "celcius_input = np.array([-40, -10, 0, 8, 15, 22, 38], dtype=float)\n",
        "farenheit_output = np.array([-40, 14, 32, 46, 59, 72, 100], dtype=float)\n",
        "\n",
        "for i,c in enumerate(celcius_input):\n",
        "  print(\"{} degree celcius = {} degree farenheit\".format(c, farenheit_output[i]))"
      ],
      "execution_count": 5,
      "outputs": [
        {
          "output_type": "stream",
          "text": [
            "-40.0 degree celcius = -40.0 degree farenheit\n",
            "-10.0 degree celcius = 14.0 degree farenheit\n",
            "0.0 degree celcius = 32.0 degree farenheit\n",
            "8.0 degree celcius = 46.0 degree farenheit\n",
            "15.0 degree celcius = 59.0 degree farenheit\n",
            "22.0 degree celcius = 72.0 degree farenheit\n",
            "38.0 degree celcius = 100.0 degree farenheit\n"
          ],
          "name": "stdout"
        }
      ]
    },
    {
      "cell_type": "markdown",
      "metadata": {
        "id": "EDePW2fgVTFY",
        "colab_type": "text"
      },
      "source": [
        "**Training the Layer**"
      ]
    },
    {
      "cell_type": "code",
      "metadata": {
        "id": "M-2N1Q27VWj_",
        "colab_type": "code",
        "colab": {}
      },
      "source": [
        "layerI = tf.keras.layers.Dense(units=1, input_shape=[1])"
      ],
      "execution_count": 0,
      "outputs": []
    },
    {
      "cell_type": "markdown",
      "metadata": {
        "id": "vuqyW9MdV5u5",
        "colab_type": "text"
      },
      "source": [
        "creating the model"
      ]
    },
    {
      "cell_type": "code",
      "metadata": {
        "id": "0zFKM5xyV9DD",
        "colab_type": "code",
        "colab": {}
      },
      "source": [
        "model = tf.keras.Sequential([layerI])"
      ],
      "execution_count": 0,
      "outputs": []
    },
    {
      "cell_type": "markdown",
      "metadata": {
        "id": "XLtlsLojWnRS",
        "colab_type": "text"
      },
      "source": [
        "Compiling"
      ]
    },
    {
      "cell_type": "code",
      "metadata": {
        "id": "8nWJ5iZTWqd4",
        "colab_type": "code",
        "colab": {}
      },
      "source": [
        "model.compile(loss='mean_squared_error',\n",
        "              optimizer=tf.keras.optimizers.Adam(0.1))"
      ],
      "execution_count": 0,
      "outputs": []
    },
    {
      "cell_type": "code",
      "metadata": {
        "id": "hpmPn-UbXkyr",
        "colab_type": "code",
        "colab": {
          "base_uri": "https://localhost:8080/",
          "height": 34
        },
        "outputId": "c4a3af3d-1fdb-47c9-ca58-2e4e4db907b3"
      },
      "source": [
        "training  = model.fit(celcius_input, farenheit_output, epochs=500, verbose=False)\n",
        "print(\"Training Done!!\")"
      ],
      "execution_count": 13,
      "outputs": [
        {
          "output_type": "stream",
          "text": [
            "Training Done!!\n"
          ],
          "name": "stdout"
        }
      ]
    },
    {
      "cell_type": "markdown",
      "metadata": {
        "id": "tuVJ5vxBZGhZ",
        "colab_type": "text"
      },
      "source": [
        "Ploting the graph of the trained model to see the loss made during each epoch"
      ]
    },
    {
      "cell_type": "code",
      "metadata": {
        "id": "mFgRNk-6YQco",
        "colab_type": "code",
        "colab": {
          "base_uri": "https://localhost:8080/",
          "height": 296
        },
        "outputId": "3cb1258d-0d6a-406b-9309-c4d166d12475"
      },
      "source": [
        "import matplotlib.pyplot as plt\n",
        "plt.xlabel('Epoch Number')\n",
        "plt.ylabel(\"Loss Magnitude\")\n",
        "plt.plot(training.history['loss'])"
      ],
      "execution_count": 14,
      "outputs": [
        {
          "output_type": "execute_result",
          "data": {
            "text/plain": [
              "[<matplotlib.lines.Line2D at 0x7fcf6709c4a8>]"
            ]
          },
          "metadata": {
            "tags": []
          },
          "execution_count": 14
        },
        {
          "output_type": "display_data",
          "data": {
            "image/png": "[encoded data removed]",
            "text/plain": [
              "<Figure size 432x288 with 1 Axes>"
            ]
          },
          "metadata": {
            "tags": []
          }
        }
      ]
    },
    {
      "cell_type": "markdown",
      "metadata": {
        "id": "y-bW-lUKZVXw",
        "colab_type": "text"
      },
      "source": [
        "Testing the model putting 100.0 Degrees Celcius"
      ]
    },
    {
      "cell_type": "code",
      "metadata": {
        "id": "W3CertYTZipx",
        "colab_type": "code",
        "colab": {
          "base_uri": "https://localhost:8080/",
          "height": 34
        },
        "outputId": "e2313bc7-a40a-49cf-d530-625b0cc18c40"
      },
      "source": [
        "print(model.predict([100.0]))"
      ],
      "execution_count": 15,
      "outputs": [
        {
          "output_type": "stream",
          "text": [
            "[[211.7414]]\n"
          ],
          "name": "stdout"
        }
      ]
    },
    {
      "cell_type": "markdown",
      "metadata": {
        "id": "5XC71psoZxkh",
        "colab_type": "text"
      },
      "source": [
        "The model returned the number near the actual value of 212 Degrees farenheit😁😁😁😁 *#root*"
      ]
    }
  ]
}