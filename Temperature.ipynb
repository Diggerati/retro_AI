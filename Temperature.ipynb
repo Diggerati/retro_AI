{
  "nbformat": 4,
  "nbformat_minor": 0,
  "metadata": {
    "colab": {
      "name": "Temperature.ipynb",
      "provenance": [],
      "authorship_tag": "ABX9TyMdA0xlOmpIXDpeI8mQqk50",
      "include_colab_link": true
    },
    "kernelspec": {
      "name": "python3",
      "display_name": "Python 3"
    }
  },
  "cells": [
    {
      "cell_type": "markdown",
      "metadata": {
        "id": "view-in-github",
        "colab_type": "text"
      },
      "source": [
        "<a href=\"https://colab.research.google.com/github/Diggerati/retro_AI/blob/master/Temperature.ipynb\" target=\"_parent\"><img src=\"https://colab.research.google.com/assets/colab-badge.svg\" alt=\"Open In Colab\"/></a>"
      ]
    },
    {
      "cell_type": "code",
      "metadata": {
        "id": "PnChVcILOW0w",
        "colab_type": "code",
        "colab": {}
      },
      "source": [
        "import tensorflow as tf\n",
        "\n",
        "import numpy as np\n"
      ],
      "execution_count": 0,
      "outputs": []
    },
    {
      "cell_type": "code",
      "metadata": {
        "id": "e6wvZy61QS_I",
        "colab_type": "code",
        "colab": {
          "base_uri": "https://localhost:8080/",
          "height": 136
        },
        "outputId": "c4e46f33-1cec-4ee7-da2d-da0deeb4d07e"
      },
      "source": [
        "celcius_input = np.array([-40, -10, 0, 8, 15, 22, 38], dtype=float)\n",
        "farenheit_output = np.array([-40, 14, 32, 46, 59, 72, 100], dtype=float)\n",
        "\n",
        "for i,c in enumerate(celcius_input):\n",
        "  print(\"{} degree celcius = {} degree farenheit\".format(c, farenheit_output[i]))"
      ],
      "execution_count": 5,
      "outputs": [
        {
          "output_type": "stream",
          "text": [
            "-40.0 degree celcius = -40.0 degree farenheit\n",
            "-10.0 degree celcius = 14.0 degree farenheit\n",
            "0.0 degree celcius = 32.0 degree farenheit\n",
            "8.0 degree celcius = 46.0 degree farenheit\n",
            "15.0 degree celcius = 59.0 degree farenheit\n",
            "22.0 degree celcius = 72.0 degree farenheit\n",
            "38.0 degree celcius = 100.0 degree farenheit\n"
          ],
          "name": "stdout"
        }
      ]
    }
  ]
}